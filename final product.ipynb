{
 "cells": [
  {
   "cell_type": "markdown",
   "metadata": {},
   "source": [
    "# Step 1 - add in relevant python libraries"
   ]
  },
  {
   "cell_type": "code",
   "execution_count": 67,
   "metadata": {},
   "outputs": [],
   "source": [
    "import pandas as pd\n",
    "import numpy as np\n",
    "\n",
    "from astropy.table import Table\n",
    "from sklearn.model_selection import train_test_split\n",
    "from sklearn.ensemble import RandomForestClassifier\n",
    "from sklearn.metrics import accuracy_score\n",
    "import seaborn as sns\n",
    "from sklearn.metrics import confusion_matrix\n",
    "from matplotlib import pyplot as plt\n",
    "\n",
    "#stars as 0, galaxies as 1"
   ]
  },
  {
   "cell_type": "markdown",
   "metadata": {},
   "source": [
    "# Step 2 - read in file information"
   ]
  },
  {
   "cell_type": "code",
   "execution_count": 48,
   "metadata": {},
   "outputs": [],
   "source": [
    "filename = 'sgsep_cosmos_tests_v2.fits' \n",
    "data = Table.read(filename, format='fits')\n",
    "df = data.to_pandas()\n",
    "\n",
    "#0 = galaxy, 1 = star"
   ]
  },
  {
   "cell_type": "code",
   "execution_count": 49,
   "metadata": {},
   "outputs": [
    {
     "data": {
      "text/plain": [
       "Index(['COADD_OBJECTS_ID', 'RA', 'DEC', 'MAG_AUTO_G', 'MAG_AUTO_R',\n",
       "       'MAG_AUTO_I', 'MAG_AUTO_Z', 'MAG_AUTO_Y', 'MAGERR_AUTO_G',\n",
       "       'MAGERR_AUTO_R', 'MAGERR_AUTO_I', 'MAGERR_AUTO_Z', 'MAGERR_AUTO_Y',\n",
       "       'MAG_CM_MOF_G', 'MAG_CM_MOF_R', 'MAG_CM_MOF_I', 'MAG_CM_MOF_Z',\n",
       "       'MAG_PSF_MOF_G', 'MAG_PSF_MOF_R', 'MAG_PSF_MOF_I', 'MAG_PSF_MOF_Z',\n",
       "       'CONCENTRATION_MOF_G', 'CONCENTRATION_MOF_R', 'CONCENTRATION_MOF_I',\n",
       "       'CONCENTRATION_MOF_Z', 'CLASS_STAR_I', 'SPREAD_MODEL_I',\n",
       "       'SPREADERR_MODEL_I', 'CM_T', 'CM_T_ERR', 'MCAL_RATIO', 'HB_PROB',\n",
       "       'TRUE_CLASS'],\n",
       "      dtype='object')"
      ]
     },
     "execution_count": 49,
     "metadata": {},
     "output_type": "execute_result"
    }
   ],
   "source": [
    "df.columns #these are all of the columns"
   ]
  },
  {
   "cell_type": "code",
   "execution_count": 50,
   "metadata": {
    "scrolled": true
   },
   "outputs": [
    {
     "data": {
      "text/html": [
       "<div>\n",
       "<style scoped>\n",
       "    .dataframe tbody tr th:only-of-type {\n",
       "        vertical-align: middle;\n",
       "    }\n",
       "\n",
       "    .dataframe tbody tr th {\n",
       "        vertical-align: top;\n",
       "    }\n",
       "\n",
       "    .dataframe thead th {\n",
       "        text-align: right;\n",
       "    }\n",
       "</style>\n",
       "<table border=\"1\" class=\"dataframe\">\n",
       "  <thead>\n",
       "    <tr style=\"text-align: right;\">\n",
       "      <th></th>\n",
       "      <th>COADD_OBJECTS_ID</th>\n",
       "      <th>RA</th>\n",
       "      <th>DEC</th>\n",
       "      <th>MAG_AUTO_G</th>\n",
       "      <th>MAG_AUTO_R</th>\n",
       "      <th>MAG_AUTO_I</th>\n",
       "      <th>MAG_AUTO_Z</th>\n",
       "      <th>MAG_AUTO_Y</th>\n",
       "      <th>MAGERR_AUTO_G</th>\n",
       "      <th>MAGERR_AUTO_R</th>\n",
       "      <th>...</th>\n",
       "      <th>CONCENTRATION_MOF_I</th>\n",
       "      <th>CONCENTRATION_MOF_Z</th>\n",
       "      <th>CLASS_STAR_I</th>\n",
       "      <th>SPREAD_MODEL_I</th>\n",
       "      <th>SPREADERR_MODEL_I</th>\n",
       "      <th>CM_T</th>\n",
       "      <th>CM_T_ERR</th>\n",
       "      <th>MCAL_RATIO</th>\n",
       "      <th>HB_PROB</th>\n",
       "      <th>TRUE_CLASS</th>\n",
       "    </tr>\n",
       "  </thead>\n",
       "  <tbody>\n",
       "    <tr>\n",
       "      <th>0</th>\n",
       "      <td>3172103719</td>\n",
       "      <td>149.583228</td>\n",
       "      <td>1.801492</td>\n",
       "      <td>24.207701</td>\n",
       "      <td>23.973700</td>\n",
       "      <td>24.034401</td>\n",
       "      <td>23.503401</td>\n",
       "      <td>99.000000</td>\n",
       "      <td>0.1224</td>\n",
       "      <td>0.1181</td>\n",
       "      <td>...</td>\n",
       "      <td>-0.001569</td>\n",
       "      <td>-0.000504</td>\n",
       "      <td>0.5402</td>\n",
       "      <td>-0.00391</td>\n",
       "      <td>0.00497</td>\n",
       "      <td>0.000361</td>\n",
       "      <td>0.051620</td>\n",
       "      <td>NaN</td>\n",
       "      <td>0.1991</td>\n",
       "      <td>0</td>\n",
       "    </tr>\n",
       "    <tr>\n",
       "      <th>1</th>\n",
       "      <td>3172103721</td>\n",
       "      <td>149.591019</td>\n",
       "      <td>1.801438</td>\n",
       "      <td>23.876200</td>\n",
       "      <td>23.272200</td>\n",
       "      <td>23.363100</td>\n",
       "      <td>22.822001</td>\n",
       "      <td>23.277201</td>\n",
       "      <td>0.1307</td>\n",
       "      <td>0.0979</td>\n",
       "      <td>...</td>\n",
       "      <td>0.472927</td>\n",
       "      <td>0.571018</td>\n",
       "      <td>0.0018</td>\n",
       "      <td>0.01059</td>\n",
       "      <td>0.00325</td>\n",
       "      <td>0.803193</td>\n",
       "      <td>0.171307</td>\n",
       "      <td>1.122696</td>\n",
       "      <td>0.2957</td>\n",
       "      <td>0</td>\n",
       "    </tr>\n",
       "    <tr>\n",
       "      <th>2</th>\n",
       "      <td>3172103724</td>\n",
       "      <td>149.655285</td>\n",
       "      <td>1.801508</td>\n",
       "      <td>25.826000</td>\n",
       "      <td>24.482901</td>\n",
       "      <td>23.968201</td>\n",
       "      <td>24.639601</td>\n",
       "      <td>24.629900</td>\n",
       "      <td>0.4103</td>\n",
       "      <td>0.1210</td>\n",
       "      <td>...</td>\n",
       "      <td>0.087590</td>\n",
       "      <td>0.135287</td>\n",
       "      <td>0.3172</td>\n",
       "      <td>0.00596</td>\n",
       "      <td>0.00364</td>\n",
       "      <td>0.027997</td>\n",
       "      <td>0.065118</td>\n",
       "      <td>0.312148</td>\n",
       "      <td>0.5887</td>\n",
       "      <td>0</td>\n",
       "    </tr>\n",
       "    <tr>\n",
       "      <th>3</th>\n",
       "      <td>3172103725</td>\n",
       "      <td>149.658410</td>\n",
       "      <td>1.801584</td>\n",
       "      <td>24.312500</td>\n",
       "      <td>23.829700</td>\n",
       "      <td>24.412901</td>\n",
       "      <td>23.942699</td>\n",
       "      <td>23.140499</td>\n",
       "      <td>0.1412</td>\n",
       "      <td>0.0954</td>\n",
       "      <td>...</td>\n",
       "      <td>0.022524</td>\n",
       "      <td>0.007815</td>\n",
       "      <td>0.0157</td>\n",
       "      <td>0.00216</td>\n",
       "      <td>0.00442</td>\n",
       "      <td>0.023093</td>\n",
       "      <td>0.050074</td>\n",
       "      <td>0.088501</td>\n",
       "      <td>0.5656</td>\n",
       "      <td>0</td>\n",
       "    </tr>\n",
       "    <tr>\n",
       "      <th>4</th>\n",
       "      <td>3172103732</td>\n",
       "      <td>149.663295</td>\n",
       "      <td>1.801699</td>\n",
       "      <td>25.224300</td>\n",
       "      <td>23.979099</td>\n",
       "      <td>23.620399</td>\n",
       "      <td>24.607800</td>\n",
       "      <td>22.607901</td>\n",
       "      <td>0.3086</td>\n",
       "      <td>0.1110</td>\n",
       "      <td>...</td>\n",
       "      <td>0.003327</td>\n",
       "      <td>0.065666</td>\n",
       "      <td>0.4202</td>\n",
       "      <td>0.00022</td>\n",
       "      <td>0.00392</td>\n",
       "      <td>0.042880</td>\n",
       "      <td>0.107814</td>\n",
       "      <td>0.425397</td>\n",
       "      <td>0.6601</td>\n",
       "      <td>1</td>\n",
       "    </tr>\n",
       "  </tbody>\n",
       "</table>\n",
       "<p>5 rows × 33 columns</p>\n",
       "</div>"
      ],
      "text/plain": [
       "   COADD_OBJECTS_ID          RA       DEC  MAG_AUTO_G  MAG_AUTO_R  MAG_AUTO_I  \\\n",
       "0        3172103719  149.583228  1.801492   24.207701   23.973700   24.034401   \n",
       "1        3172103721  149.591019  1.801438   23.876200   23.272200   23.363100   \n",
       "2        3172103724  149.655285  1.801508   25.826000   24.482901   23.968201   \n",
       "3        3172103725  149.658410  1.801584   24.312500   23.829700   24.412901   \n",
       "4        3172103732  149.663295  1.801699   25.224300   23.979099   23.620399   \n",
       "\n",
       "   MAG_AUTO_Z  MAG_AUTO_Y  MAGERR_AUTO_G  MAGERR_AUTO_R  ...  \\\n",
       "0   23.503401   99.000000         0.1224         0.1181  ...   \n",
       "1   22.822001   23.277201         0.1307         0.0979  ...   \n",
       "2   24.639601   24.629900         0.4103         0.1210  ...   \n",
       "3   23.942699   23.140499         0.1412         0.0954  ...   \n",
       "4   24.607800   22.607901         0.3086         0.1110  ...   \n",
       "\n",
       "   CONCENTRATION_MOF_I  CONCENTRATION_MOF_Z  CLASS_STAR_I  SPREAD_MODEL_I  \\\n",
       "0            -0.001569            -0.000504        0.5402        -0.00391   \n",
       "1             0.472927             0.571018        0.0018         0.01059   \n",
       "2             0.087590             0.135287        0.3172         0.00596   \n",
       "3             0.022524             0.007815        0.0157         0.00216   \n",
       "4             0.003327             0.065666        0.4202         0.00022   \n",
       "\n",
       "   SPREADERR_MODEL_I      CM_T  CM_T_ERR  MCAL_RATIO  HB_PROB  TRUE_CLASS  \n",
       "0            0.00497  0.000361  0.051620         NaN   0.1991           0  \n",
       "1            0.00325  0.803193  0.171307    1.122696   0.2957           0  \n",
       "2            0.00364  0.027997  0.065118    0.312148   0.5887           0  \n",
       "3            0.00442  0.023093  0.050074    0.088501   0.5656           0  \n",
       "4            0.00392  0.042880  0.107814    0.425397   0.6601           1  \n",
       "\n",
       "[5 rows x 33 columns]"
      ]
     },
     "execution_count": 50,
     "metadata": {},
     "output_type": "execute_result"
    }
   ],
   "source": [
    "df.head()"
   ]
  },
  {
   "cell_type": "markdown",
   "metadata": {},
   "source": [
    "# Step 3 - clean dataframe"
   ]
  },
  {
   "cell_type": "code",
   "execution_count": 51,
   "metadata": {},
   "outputs": [],
   "source": [
    "df_properties = df.iloc[:,3:30] #photometric properties \n",
    "#another way to do it is: df_properties = df.drop(['COADD_OBJECTS_ID','RA','DEC'],axis='columns')\n",
    "y = df['TRUE_CLASS']"
   ]
  },
  {
   "cell_type": "code",
   "execution_count": 73,
   "metadata": {},
   "outputs": [
    {
     "data": {
      "text/plain": [
       "0    103914\n",
       "1     12113\n",
       "Name: TRUE_CLASS, dtype: int64"
      ]
     },
     "execution_count": 73,
     "metadata": {},
     "output_type": "execute_result"
    }
   ],
   "source": [
    "y.value_counts()"
   ]
  },
  {
   "cell_type": "code",
   "execution_count": 52,
   "metadata": {},
   "outputs": [
    {
     "data": {
      "text/html": [
       "<div>\n",
       "<style scoped>\n",
       "    .dataframe tbody tr th:only-of-type {\n",
       "        vertical-align: middle;\n",
       "    }\n",
       "\n",
       "    .dataframe tbody tr th {\n",
       "        vertical-align: top;\n",
       "    }\n",
       "\n",
       "    .dataframe thead th {\n",
       "        text-align: right;\n",
       "    }\n",
       "</style>\n",
       "<table border=\"1\" class=\"dataframe\">\n",
       "  <thead>\n",
       "    <tr style=\"text-align: right;\">\n",
       "      <th></th>\n",
       "      <th>MAG_AUTO_G</th>\n",
       "      <th>MAG_AUTO_R</th>\n",
       "      <th>MAG_AUTO_I</th>\n",
       "      <th>MAG_AUTO_Z</th>\n",
       "      <th>MAG_AUTO_Y</th>\n",
       "      <th>MAGERR_AUTO_G</th>\n",
       "      <th>MAGERR_AUTO_R</th>\n",
       "      <th>MAGERR_AUTO_I</th>\n",
       "      <th>MAGERR_AUTO_Z</th>\n",
       "      <th>MAGERR_AUTO_Y</th>\n",
       "      <th>...</th>\n",
       "      <th>MAG_PSF_MOF_Z</th>\n",
       "      <th>CONCENTRATION_MOF_G</th>\n",
       "      <th>CONCENTRATION_MOF_R</th>\n",
       "      <th>CONCENTRATION_MOF_I</th>\n",
       "      <th>CONCENTRATION_MOF_Z</th>\n",
       "      <th>CLASS_STAR_I</th>\n",
       "      <th>SPREAD_MODEL_I</th>\n",
       "      <th>SPREADERR_MODEL_I</th>\n",
       "      <th>CM_T</th>\n",
       "      <th>CM_T_ERR</th>\n",
       "    </tr>\n",
       "  </thead>\n",
       "  <tbody>\n",
       "    <tr>\n",
       "      <th>0</th>\n",
       "      <td>24.207701</td>\n",
       "      <td>23.973700</td>\n",
       "      <td>24.034401</td>\n",
       "      <td>23.503401</td>\n",
       "      <td>99.000000</td>\n",
       "      <td>0.1224</td>\n",
       "      <td>0.1181</td>\n",
       "      <td>0.2037</td>\n",
       "      <td>0.2735</td>\n",
       "      <td>1.0000</td>\n",
       "      <td>...</td>\n",
       "      <td>23.665105</td>\n",
       "      <td>0.019953</td>\n",
       "      <td>0.010535</td>\n",
       "      <td>-0.001569</td>\n",
       "      <td>-0.000504</td>\n",
       "      <td>0.5402</td>\n",
       "      <td>-0.00391</td>\n",
       "      <td>0.00497</td>\n",
       "      <td>0.000361</td>\n",
       "      <td>0.051620</td>\n",
       "    </tr>\n",
       "    <tr>\n",
       "      <th>1</th>\n",
       "      <td>23.876200</td>\n",
       "      <td>23.272200</td>\n",
       "      <td>23.363100</td>\n",
       "      <td>22.822001</td>\n",
       "      <td>23.277201</td>\n",
       "      <td>0.1307</td>\n",
       "      <td>0.0979</td>\n",
       "      <td>0.1362</td>\n",
       "      <td>0.2311</td>\n",
       "      <td>1.0000</td>\n",
       "      <td>...</td>\n",
       "      <td>23.415639</td>\n",
       "      <td>0.429241</td>\n",
       "      <td>0.454209</td>\n",
       "      <td>0.472927</td>\n",
       "      <td>0.571018</td>\n",
       "      <td>0.0018</td>\n",
       "      <td>0.01059</td>\n",
       "      <td>0.00325</td>\n",
       "      <td>0.803193</td>\n",
       "      <td>0.171307</td>\n",
       "    </tr>\n",
       "    <tr>\n",
       "      <th>2</th>\n",
       "      <td>25.826000</td>\n",
       "      <td>24.482901</td>\n",
       "      <td>23.968201</td>\n",
       "      <td>24.639601</td>\n",
       "      <td>24.629900</td>\n",
       "      <td>0.4103</td>\n",
       "      <td>0.1210</td>\n",
       "      <td>0.1142</td>\n",
       "      <td>0.5940</td>\n",
       "      <td>1.0000</td>\n",
       "      <td>...</td>\n",
       "      <td>24.270458</td>\n",
       "      <td>0.246832</td>\n",
       "      <td>0.008948</td>\n",
       "      <td>0.087590</td>\n",
       "      <td>0.135287</td>\n",
       "      <td>0.3172</td>\n",
       "      <td>0.00596</td>\n",
       "      <td>0.00364</td>\n",
       "      <td>0.027997</td>\n",
       "      <td>0.065118</td>\n",
       "    </tr>\n",
       "    <tr>\n",
       "      <th>3</th>\n",
       "      <td>24.312500</td>\n",
       "      <td>23.829700</td>\n",
       "      <td>24.412901</td>\n",
       "      <td>23.942699</td>\n",
       "      <td>23.140499</td>\n",
       "      <td>0.1412</td>\n",
       "      <td>0.0954</td>\n",
       "      <td>0.2471</td>\n",
       "      <td>0.4503</td>\n",
       "      <td>0.6893</td>\n",
       "      <td>...</td>\n",
       "      <td>23.644532</td>\n",
       "      <td>0.028080</td>\n",
       "      <td>0.028515</td>\n",
       "      <td>0.022524</td>\n",
       "      <td>0.007815</td>\n",
       "      <td>0.0157</td>\n",
       "      <td>0.00216</td>\n",
       "      <td>0.00442</td>\n",
       "      <td>0.023093</td>\n",
       "      <td>0.050074</td>\n",
       "    </tr>\n",
       "    <tr>\n",
       "      <th>4</th>\n",
       "      <td>25.224300</td>\n",
       "      <td>23.979099</td>\n",
       "      <td>23.620399</td>\n",
       "      <td>24.607800</td>\n",
       "      <td>22.607901</td>\n",
       "      <td>0.3086</td>\n",
       "      <td>0.1110</td>\n",
       "      <td>0.1202</td>\n",
       "      <td>0.8421</td>\n",
       "      <td>0.4277</td>\n",
       "      <td>...</td>\n",
       "      <td>23.756180</td>\n",
       "      <td>-0.017245</td>\n",
       "      <td>-0.020885</td>\n",
       "      <td>0.003327</td>\n",
       "      <td>0.065666</td>\n",
       "      <td>0.4202</td>\n",
       "      <td>0.00022</td>\n",
       "      <td>0.00392</td>\n",
       "      <td>0.042880</td>\n",
       "      <td>0.107814</td>\n",
       "    </tr>\n",
       "  </tbody>\n",
       "</table>\n",
       "<p>5 rows × 27 columns</p>\n",
       "</div>"
      ],
      "text/plain": [
       "   MAG_AUTO_G  MAG_AUTO_R  MAG_AUTO_I  MAG_AUTO_Z  MAG_AUTO_Y  MAGERR_AUTO_G  \\\n",
       "0   24.207701   23.973700   24.034401   23.503401   99.000000         0.1224   \n",
       "1   23.876200   23.272200   23.363100   22.822001   23.277201         0.1307   \n",
       "2   25.826000   24.482901   23.968201   24.639601   24.629900         0.4103   \n",
       "3   24.312500   23.829700   24.412901   23.942699   23.140499         0.1412   \n",
       "4   25.224300   23.979099   23.620399   24.607800   22.607901         0.3086   \n",
       "\n",
       "   MAGERR_AUTO_R  MAGERR_AUTO_I  MAGERR_AUTO_Z  MAGERR_AUTO_Y  ...  \\\n",
       "0         0.1181         0.2037         0.2735         1.0000  ...   \n",
       "1         0.0979         0.1362         0.2311         1.0000  ...   \n",
       "2         0.1210         0.1142         0.5940         1.0000  ...   \n",
       "3         0.0954         0.2471         0.4503         0.6893  ...   \n",
       "4         0.1110         0.1202         0.8421         0.4277  ...   \n",
       "\n",
       "   MAG_PSF_MOF_Z  CONCENTRATION_MOF_G  CONCENTRATION_MOF_R  \\\n",
       "0      23.665105             0.019953             0.010535   \n",
       "1      23.415639             0.429241             0.454209   \n",
       "2      24.270458             0.246832             0.008948   \n",
       "3      23.644532             0.028080             0.028515   \n",
       "4      23.756180            -0.017245            -0.020885   \n",
       "\n",
       "   CONCENTRATION_MOF_I  CONCENTRATION_MOF_Z  CLASS_STAR_I  SPREAD_MODEL_I  \\\n",
       "0            -0.001569            -0.000504        0.5402        -0.00391   \n",
       "1             0.472927             0.571018        0.0018         0.01059   \n",
       "2             0.087590             0.135287        0.3172         0.00596   \n",
       "3             0.022524             0.007815        0.0157         0.00216   \n",
       "4             0.003327             0.065666        0.4202         0.00022   \n",
       "\n",
       "   SPREADERR_MODEL_I      CM_T  CM_T_ERR  \n",
       "0            0.00497  0.000361  0.051620  \n",
       "1            0.00325  0.803193  0.171307  \n",
       "2            0.00364  0.027997  0.065118  \n",
       "3            0.00442  0.023093  0.050074  \n",
       "4            0.00392  0.042880  0.107814  \n",
       "\n",
       "[5 rows x 27 columns]"
      ]
     },
     "execution_count": 52,
     "metadata": {},
     "output_type": "execute_result"
    }
   ],
   "source": [
    "df_properties.head()"
   ]
  },
  {
   "cell_type": "code",
   "execution_count": 53,
   "metadata": {},
   "outputs": [
    {
     "data": {
      "text/plain": [
       "116027"
      ]
     },
     "execution_count": 53,
     "metadata": {},
     "output_type": "execute_result"
    }
   ],
   "source": [
    "len(df_properties)"
   ]
  },
  {
   "cell_type": "markdown",
   "metadata": {},
   "source": [
    "# Step 4 - train and test the data"
   ]
  },
  {
   "cell_type": "code",
   "execution_count": 54,
   "metadata": {},
   "outputs": [],
   "source": [
    "X_train, X_test, y_train, y_test = train_test_split(df_properties, y, test_size=0.2)\n",
    "\n",
    "#X_train = the first 80% of the df_properties\n",
    "#y_train is the first 80% of y which is the answers for the first 80% of df_properties\n",
    "\n",
    "#X_test = 20% of df_properties that we want to test the model\n",
    "#y_test = 20% of the true answers for the 20% of df_properties"
   ]
  },
  {
   "cell_type": "code",
   "execution_count": 55,
   "metadata": {},
   "outputs": [],
   "source": [
    "#creating the model instance\n",
    "\n",
    "clf = RandomForestClassifier(n_estimators=100,max_depth=2)"
   ]
  },
  {
   "cell_type": "code",
   "execution_count": 56,
   "metadata": {},
   "outputs": [
    {
     "data": {
      "text/plain": [
       "RandomForestClassifier(max_depth=2)"
      ]
     },
     "execution_count": 56,
     "metadata": {},
     "output_type": "execute_result"
    }
   ],
   "source": [
    "#training the model; give it all of the properties information (X), and the subsequent answers for that information (y)\n",
    "#so that it learns everything\n",
    "\n",
    "clf.fit(X_train,y_train)"
   ]
  },
  {
   "cell_type": "markdown",
   "metadata": {},
   "source": [
    "# Step 5 - check accuracy of model"
   ]
  },
  {
   "cell_type": "code",
   "execution_count": 59,
   "metadata": {},
   "outputs": [],
   "source": [
    "y_pred = clf.predict(X_test)"
   ]
  },
  {
   "cell_type": "code",
   "execution_count": 62,
   "metadata": {},
   "outputs": [
    {
     "data": {
      "text/plain": [
       "'96%'"
      ]
     },
     "execution_count": 62,
     "metadata": {},
     "output_type": "execute_result"
    }
   ],
   "source": [
    "#accuracy score of the model; how accurate was the model in predicting whether it was a star or galaxy\n",
    "\n",
    "str(round((accuracy_score(y_test, y_pred))*100))+'%'"
   ]
  },
  {
   "cell_type": "markdown",
   "metadata": {},
   "source": [
    "# Step 6 - building confusion matrix"
   ]
  },
  {
   "cell_type": "code",
   "execution_count": 3,
   "metadata": {},
   "outputs": [
    {
     "ename": "NameError",
     "evalue": "name 'confusion_matrix' is not defined",
     "output_type": "error",
     "traceback": [
      "\u001b[0;31m---------------------------------------------------------------------------\u001b[0m",
      "\u001b[0;31mNameError\u001b[0m                                 Traceback (most recent call last)",
      "\u001b[0;32m<ipython-input-3-a62cb75288d3>\u001b[0m in \u001b[0;36m<module>\u001b[0;34m\u001b[0m\n\u001b[0;32m----> 1\u001b[0;31m \u001b[0mmmat\u001b[0m \u001b[0;34m=\u001b[0m \u001b[0mconfusion_matrix\u001b[0m\u001b[0;34m(\u001b[0m\u001b[0my_test\u001b[0m\u001b[0;34m,\u001b[0m\u001b[0my_pred\u001b[0m\u001b[0;34m)\u001b[0m\u001b[0;34m\u001b[0m\u001b[0;34m\u001b[0m\u001b[0m\n\u001b[0m\u001b[1;32m      2\u001b[0m \u001b[0msns\u001b[0m\u001b[0;34m.\u001b[0m\u001b[0mheatmap\u001b[0m\u001b[0;34m(\u001b[0m\u001b[0mmat\u001b[0m\u001b[0;34m.\u001b[0m\u001b[0mT\u001b[0m\u001b[0;34m,\u001b[0m \u001b[0msquare\u001b[0m\u001b[0;34m=\u001b[0m\u001b[0;32mTrue\u001b[0m\u001b[0;34m,\u001b[0m \u001b[0mannot\u001b[0m\u001b[0;34m=\u001b[0m\u001b[0;32mTrue\u001b[0m\u001b[0;34m,\u001b[0m \u001b[0mfmt\u001b[0m\u001b[0;34m=\u001b[0m\u001b[0;34m'd'\u001b[0m\u001b[0;34m,\u001b[0m \u001b[0mcbar\u001b[0m\u001b[0;34m=\u001b[0m\u001b[0;32mFalse\u001b[0m\u001b[0;34m)\u001b[0m\u001b[0;34m\u001b[0m\u001b[0;34m\u001b[0m\u001b[0m\n\u001b[1;32m      3\u001b[0m \u001b[0mplt\u001b[0m\u001b[0;34m.\u001b[0m\u001b[0mxlabel\u001b[0m\u001b[0;34m(\u001b[0m\u001b[0;34m'True Label'\u001b[0m\u001b[0;34m)\u001b[0m\u001b[0;34m\u001b[0m\u001b[0;34m\u001b[0m\u001b[0m\n\u001b[1;32m      4\u001b[0m \u001b[0mplt\u001b[0m\u001b[0;34m.\u001b[0m\u001b[0mylabel\u001b[0m\u001b[0;34m(\u001b[0m\u001b[0;34m'Predicted Label'\u001b[0m\u001b[0;34m)\u001b[0m\u001b[0;34m\u001b[0m\u001b[0;34m\u001b[0m\u001b[0m\n\u001b[1;32m      5\u001b[0m \u001b[0mtitle\u001b[0m \u001b[0;34m=\u001b[0m \u001b[0;34m'Star-Galaxy Classification'\u001b[0m\u001b[0;34m\u001b[0m\u001b[0;34m\u001b[0m\u001b[0m\n",
      "\u001b[0;31mNameError\u001b[0m: name 'confusion_matrix' is not defined"
     ]
    }
   ],
   "source": [
    "mat = confusion_matrix(y_test,y_pred)\n",
    "sns.heatmap(mat.T, square=True, annot=True, fmt='d', cbar=False)\n",
    "plt.xlabel('True Label')\n",
    "plt.ylabel('Predicted Label')\n",
    "title = 'Star-Galaxy Classification'\n",
    "plt.title(title)\n",
    "plt.show()\n",
    "    \n",
    "TP, FP, FN, TN = float(mat[0][0]),float(mat[0][1]),float(mat[1][0]),float(mat[1][1])\n",
    "\n",
    "print (\"Completeness/Precision:\", round((TP/(TP+FN)),3)) #sensitivity/true positive rate\n",
    "print (\"Purity:\", round((TP/(TP+FP)),3)) #precision \n",
    "gal_cont = round((FP/(FP+TP)),3)*100\n",
    "print (\"Galaxy Contamination:\", gal_cont,'%') #when star is misclassified as galaxy"
   ]
  },
  {
   "cell_type": "code",
   "execution_count": null,
   "metadata": {},
   "outputs": [],
   "source": []
  }
 ],
 "metadata": {
  "kernelspec": {
   "display_name": "Python 3",
   "language": "python",
   "name": "python3"
  },
  "language_info": {
   "codemirror_mode": {
    "name": "ipython",
    "version": 3
   },
   "file_extension": ".py",
   "mimetype": "text/x-python",
   "name": "python",
   "nbconvert_exporter": "python",
   "pygments_lexer": "ipython3",
   "version": "3.8.8"
  }
 },
 "nbformat": 4,
 "nbformat_minor": 4
}
